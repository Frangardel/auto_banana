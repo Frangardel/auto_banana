{
 "cells": [
  {
   "cell_type": "code",
   "execution_count": null,
   "metadata": {},
   "outputs": [],
   "source": []
  }
 ],
 "metadata": {
  "kernelspec": {
   "display_name": "Python 3.7.4 64-bit",
   "language": "python",
   "name": "python3"
  },
  "language_info": {
   "name": "python",
   "version": "3.7.4"
  },
  "orig_nbformat": 4,
  "vscode": {
   "interpreter": {
    "hash": "c275cdd412aa053bedfe8ef10c22700bc2fa20190d0dacb190517aa080368f5f"
   }
  }
 },
 "nbformat": 4,
 "nbformat_minor": 2
}
